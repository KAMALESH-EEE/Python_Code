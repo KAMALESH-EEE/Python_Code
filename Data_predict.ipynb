{
  "nbformat": 4,
  "nbformat_minor": 0,
  "metadata": {
    "colab": {
      "private_outputs": true,
      "provenance": [],
      "mount_file_id": "1_Fs25hr0N721lH0qIY6NgyjS1zulOs5K",
      "authorship_tag": "ABX9TyMbg99ioMUpczsDc+zhzcX2",
      "include_colab_link": true
    },
    "kernelspec": {
      "name": "python3",
      "display_name": "Python 3"
    },
    "language_info": {
      "name": "python"
    }
  },
  "cells": [
    {
      "cell_type": "markdown",
      "metadata": {
        "id": "view-in-github",
        "colab_type": "text"
      },
      "source": [
        "<a href=\"https://colab.research.google.com/github/KAMALESH-EEE/Python_Code/blob/main/Data_predict.ipynb\" target=\"_parent\"><img src=\"https://colab.research.google.com/assets/colab-badge.svg\" alt=\"Open In Colab\"/></a>"
      ]
    },
    {
      "cell_type": "code",
      "execution_count": null,
      "metadata": {
        "id": "fWESK7Gp3Nr4"
      },
      "outputs": [],
      "source": [
        "!pip install scipy matplotlib\n"
      ]
    },
    {
      "source": [
        "# Upload your CSV file\n",
        "from google.colab import files\n",
        "#uploaded = files.upload()\n",
        "\n",
        "# Read CSV file\n",
        "import pandas as pd\n",
        "\n",
        "# Replace 'your_file.csv' with your uploaded file name\n",
        "df = pd.read_csv(\"test.csv\")\n",
        "\n",
        "# Get the actual column names from the DataFrame\n",
        "column_names = df.columns.tolist()\n",
        "print(\"Column names in the CSV:\", column_names)\n",
        "\n",
        "# Extract X and Y columns using the actual column names\n",
        "# Replace 'actual_x_column' and 'actual_y_column' with the correct column names\n",
        "x_column = column_names[0]  # Assuming 'X' column is the first column\n",
        "y_column = column_names[1]  # Assuming 'Y' column is the second column\n",
        "\n",
        "x = df[x_column].values\n",
        "y = df[y_column].values\n",
        "\n",
        "# Display data\n",
        "print(\"X values:\", x)\n",
        "print(\"Y values:\", y)\n",
        "\n",
        "# Interpolation\n",
        "from scipy.interpolate import interp1d\n",
        "import numpy as np\n",
        "import matplotlib.pyplot as plt\n",
        "\n",
        "# Create cubic spline interpolator\n",
        "cubic_interp = interp1d(x, y, kind='cubic')\n",
        "\n",
        "X_data =[i for i in range(100,201)]\n",
        "Y_data =[cubic_interp(i) for i in X_data]\n",
        "\n",
        "Predict_file = pd.DataFrame({\"Frq\":X_data,\"MF\":Y_data})\n",
        "Predict_file.to_csv(\"Predict_file.csv\",index=False)\n",
        "\n",
        "\n",
        "# Predict Y for a given X\n",
        "x_interp = float(input(\"Enter X value to interpolate: \"))\n",
        "y_interp = cubic_interp(x_interp)\n",
        "print(f\"Interpolated Y for X = {x_interp} is: {y_interp}\")\n",
        "\n",
        "# Plot\n",
        "x_dense = np.linspace(min(x), max(x), 200)\n",
        "y_dense = cubic_interp(x_dense)\n",
        "\n",
        "plt.plot(x, y, 'o', label='Original Data')\n",
        "plt.plot(x_dense, y_dense, '-', label='Cubic Spline')\n",
        "plt.plot(x_interp, y_interp, 'ro', label='Interpolated Point')\n",
        "plt.xlabel(x_column) # Update x-axis label\n",
        "plt.ylabel(y_column) # Update y-axis label\n",
        "plt.title(\"Cubic Spline Interpolation\")\n",
        "plt.legend()\n",
        "plt.grid(True)\n",
        "plt.show()"
      ],
      "cell_type": "code",
      "metadata": {
        "id": "hosxpL-P7akw"
      },
      "execution_count": null,
      "outputs": []
    }
  ]
}